{
 "cells": [
  {
   "cell_type": "code",
   "execution_count": 5,
   "id": "84e7bccb",
   "metadata": {},
   "outputs": [
    {
     "name": "stdout",
     "output_type": "stream",
     "text": [
      "910.0\n"
     ]
    }
   ],
   "source": [
    "import math # Solution\n",
    "\n",
    "number_of_grandchildren = 2\n",
    "\n",
    "# The number of ways to choose 3 books from 5 books\n",
    "books = 5\n",
    "\n",
    "books_chosen = 3\n",
    "books_combinations = math.factorial(books) / (math.factorial(books_chosen) * math.factorial(books - books_chosen))\n",
    "\n",
    "# The number of ways to choose 3 pens from 7 pens\n",
    "pens = 7\n",
    "pens_chosen = 3\n",
    "pens_combinations = math.factorial(pens) / (math.factorial(pens_chosen) * math.factorial(pens - pens_chosen))\n",
    "\n",
    "# The number of ways to choose 3 books and 3 pens from 5 books and 7 pens\n",
    "combinations_3_books_3_pens = number_of_grandchildren * books_combinations * pens_combinations\n",
    "\n",
    "# The number of ways to choose 4 books from 5 books\n",
    "books_chosen = 4\n",
    "books_combinations = math.factorial(books) / (math.factorial(books_chosen) * math.factorial(books - books_chosen))\n",
    "\n",
    "# The number of ways to choose 2 pens from 7 pens\n",
    "pens_chosen = 2\n",
    "pens_combinations = math.factorial(pens) / (math.factorial(pens_chosen) * math.factorial(pens - pens_chosen))\n",
    "\n",
    "# The number of ways to choose 4 books and 2 pens from 5 books and 7 pens\n",
    "combinations_4_books_2_pens = number_of_grandchildren * books_combinations * pens_combinations\n",
    "\n",
    "total_combinations = combinations_3_books_3_pens + combinations_4_books_2_pens\n",
    "\n",
    "print(total_combinations)"
   ]
  },
  {
   "cell_type": "code",
   "execution_count": 8,
   "id": "b78f3249",
   "metadata": {},
   "outputs": [
    {
     "name": "stdout",
     "output_type": "stream",
     "text": [
      "580608000.0\n"
     ]
    }
   ],
   "source": [
    "import math # Solution\n",
    "\n",
    "car_seats = 5\n",
    "car_drivers = 1\n",
    "van_seats = 9\n",
    "van_drivers = 1\n",
    "drivers = car_drivers + van_drivers\n",
    "managers = 3\n",
    "\n",
    "# The number of ways to choose 2 drivers from 3 managers\n",
    "permutations_drivers = math.factorial(managers) / (math.factorial(managers - drivers))\n",
    "\n",
    "coaches = 1\n",
    "male_players = 5\n",
    "female_players = 5\n",
    "max_players_of_each_gender_in_car = 2\n",
    "\n",
    "# The number of ways to choose 2 male players among 5 male players\n",
    "combinations_male_players_in_car = math.factorial(male_players) / (math.factorial(max_players_of_each_gender_in_car) * math.factorial(male_players - max_players_of_each_gender_in_car))\n",
    "\n",
    "# The number of ways to choose 2 female players among 5 female players\n",
    "combinations_female_players_in_car = math.factorial(female_players) / (math.factorial(max_players_of_each_gender_in_car) * math.factorial(female_players - max_players_of_each_gender_in_car))\n",
    "\n",
    "# The number of ways to order 4 passengers in the car\n",
    "car_seat_ordering = math.factorial(car_seats - car_drivers) \n",
    "\n",
    "# The number of ways to order 8 passengers in the van\n",
    "van_seat_ordering = math.factorial(van_seats - van_drivers) \n",
    "\n",
    "# The total number of different ways to distribute the fourteen elements of the entourage among the fourteen available places\n",
    "total_ways = permutations_drivers * combinations_male_players_in_car * combinations_female_players_in_car * car_seat_ordering * van_seat_ordering\n",
    "\n",
    "print(total_ways)\n"
   ]
  },
  {
   "cell_type": "code",
   "execution_count": 5,
   "id": "a80d819c",
   "metadata": {},
   "outputs": [
    {
     "name": "stdout",
     "output_type": "stream",
     "text": [
      "2520.0\n"
     ]
    }
   ],
   "source": [
    "import math\n",
    "\n",
    "# there are 8 blue balls and 7 white balls\n",
    "blue_balls = 8\n",
    "white_balls = 7\n",
    "\n",
    "# there are 5 even-numbered boxes and 5 odd-numbered boxes\n",
    "even_boxes = 5\n",
    "odd_boxes = 5\n",
    "total_boxes = even_boxes + odd_boxes\n",
    "\n",
    "# after each even-numbered box gets 1 blue ball, there are 3 blue balls remaining\n",
    "blue_balls_remaining = blue_balls - even_boxes\n",
    "\n",
    "# after each odd-numbered box gets 1 white ball, there are 2 white balls remaining\n",
    "white_balls_remaining = white_balls - odd_boxes\n",
    "\n",
    "# The number of ways to place the 2 remaning white balls among the 10 boxes\n",
    "combinations_white_balls_in_remaining_boxes = math.factorial(total_boxes) / (math.factorial(white_balls_remaining) * math.factorial(total_boxes - white_balls_remaining))\n",
    "\n",
    "# The number of ways to place the 3 remaning white balls among the remaining 8 boxes\n",
    "combinations_blue_balls_in_remaining_boxes = math.factorial(total_boxes - white_balls_remaining) / (math.factorial(blue_balls_remaining) * math.factorial( (total_boxes - white_balls_remaining) - blue_balls_remaining))\n",
    "\n",
    "# The total number of different ways to distribute the balls in the boxes\n",
    "total_ways = combinations_white_balls_in_remaining_boxes * combinations_blue_balls_in_remaining_boxes\n",
    "\n",
    "print(total_ways)\n"
   ]
  },
  {
   "cell_type": "code",
   "execution_count": 6,
   "id": "12e1082c",
   "metadata": {},
   "outputs": [
    {
     "name": "stdout",
     "output_type": "stream",
     "text": [
      "576.0\n"
     ]
    }
   ],
   "source": [
    "import math\n",
    "\n",
    "# there are 3 swedish guests and 4 danish guests\n",
    "swedish_guests = 3\n",
    "danish_guests = 4\n",
    "\n",
    "# there are 4 bikes with 2 seats each, each with a different color\n",
    "bikes = 4\n",
    "\n",
    "# only the danish guests can drive, so each has to take one motorcycle\n",
    "ways_of_arranging_danish_guests = math.factorial(bikes) / math.factorial(bikes - danish_guests)\n",
    "\n",
    "# the remaining 3 guests need to be distributed among the 4 remaining seats\n",
    "ways_of_arranging_swedish_guests = math.factorial(bikes) / math.factorial(bikes - swedish_guests)\n",
    "\n",
    "# The total number of different ways to distribute the guests among the bikes\n",
    "total_ways = ways_of_arranging_danish_guests * ways_of_arranging_swedish_guests\n",
    "\n",
    "print(total_ways)\n"
   ]
  },
  {
   "cell_type": "code",
   "execution_count": 10,
   "id": "f1b73c79",
   "metadata": {},
   "outputs": [
    {
     "name": "stdout",
     "output_type": "stream",
     "text": [
      "1/22\n"
     ]
    }
   ],
   "source": [
    "import math\n",
    "\n",
    "from fractions import Fraction\n",
    "\n",
    "# there are 12 cards: 3 blue, 2 white, 3 black and 4 red\n",
    "blue_cards = 3\n",
    "white_cards = 2\n",
    "black_cards = 3\n",
    "red_cards = 4\n",
    "total_cards = blue_cards + white_cards + black_cards + red_cards\n",
    "\n",
    "# number of different ways to arrange the blue cards, in sequence\n",
    "blue_cards_ordering = math.factorial(blue_cards)\n",
    "\n",
    "# number of different ways to arrange the group of blue cards among the remaining cards, in sequence\n",
    "remaining_cards_ordering = math.factorial((total_cards - blue_cards) + 1)\n",
    "\n",
    "# number of favourable cases\n",
    "number_of_favourable_cases = blue_cards_ordering * remaining_cards_ordering\n",
    "\n",
    "# number of possible cases\n",
    "number_of_possible_cases = math.factorial(total_cards)\n",
    "\n",
    "# probability of all blue cards being grouped together, expressed as a fraction\n",
    "probability_blue_cards_grouped_together = Fraction(number_of_favourable_cases, number_of_possible_cases)\n",
    "\n",
    "print(probability_blue_cards_grouped_together)"
   ]
  },
  {
   "cell_type": "code",
   "execution_count": 12,
   "id": "006a3af9",
   "metadata": {},
   "outputs": [
    {
     "name": "stdout",
     "output_type": "stream",
     "text": [
      "1\n",
      "40320\n"
     ]
    }
   ],
   "source": [
    "import itertools\n",
    "\n",
    "def main():\n",
    "    chairs = [1,2,3,4,5,6,7,8]\n",
    "    chairs_combinations = list(itertools.combinations(chairs, 8))\n",
    "    chairs_permutations = list(itertools.permutations(chairs, 8))\n",
    "    print(len(chairs_combinations))\n",
    "    print(len(chairs_permutations))\n",
    "\n",
    "\n",
    "main()"
   ]
  },
  {
   "cell_type": "code",
   "execution_count": 35,
   "id": "ec05116b",
   "metadata": {},
   "outputs": [
    {
     "name": "stdout",
     "output_type": "stream",
     "text": [
      "1.703031405723648e+20\n"
     ]
    }
   ],
   "source": [
    "import math\n",
    "\n",
    "# there are 20 journalists\n",
    "journalists = 20\n",
    "\n",
    "# there are 8 chairs per row, and 3 rows in total\n",
    "chairs_per_row = 8\n",
    "total_chairs = 24\n",
    "\n",
    "# the number of journalists that must be seated in the first two rows\n",
    "journalists_first_2_rows = 16\n",
    "\n",
    "# The number of ways to choose 16 from among the 20 journalists to sit in the first 2 rows\n",
    "combinations_journalists_in_first_two_rows = math.factorial(journalists) / (math.factorial(journalists_first_2_rows) * math.factorial(journalists - journalists_first_2_rows ))\n",
    "\n",
    "# The number of ways to order the 16 journalists in the first 2 rows\n",
    "ordering_journalists_in_first_2_rows = math.factorial(journalists_first_2_rows)\n",
    "\n",
    "# The number of ways to choose 4 from among the remaining 4 journalists to sit in the last row\n",
    "combinations_journalists_in_last_row = math.factorial(chairs_per_row) / (math.factorial(journalists - journalists_first_2_rows) * math.factorial( chairs_per_row - (journalists - journalists_first_2_rows) ))\n",
    "\n",
    "# The number of ways to order the remaining 4 journalists in the last remaining row\n",
    "ordering_journalists_in_last_row = math.factorial(journalists - journalists_first_2_rows)\n",
    "\n",
    "# The total number of different ways to distribute the journalists among the chairs\n",
    "total_ways = combinations_journalists_in_first_two_rows * ordering_journalists_in_first_2_rows * combinations_journalists_in_last_row * ordering_journalists_in_last_row\n",
    "\n",
    "print(total_ways)"
   ]
  },
  {
   "cell_type": "code",
   "execution_count": 2,
   "id": "4ea42a14",
   "metadata": {},
   "outputs": [],
   "source": [
    "from math import factorial\n",
    "\n",
    "\n",
    "def arrangements(n, k):\n",
    "    return factorial(n) / factorial(n-k)\n",
    "\n",
    "def combinations(n, k):\n",
    "    return factorial(n) / (factorial(k) * factorial(n-k))\n",
    "\n",
    "def permutations(n):\n",
    "    return factorial(n)\n",
    "\n",
    "def probability(n, k):\n",
    "    return combinations(n, k) / permutations(n)"
   ]
  },
  {
   "cell_type": "code",
   "execution_count": 3,
   "id": "15517f05",
   "metadata": {},
   "outputs": [
    {
     "data": {
      "text/plain": [
       "2.0274183401472e+16"
      ]
     },
     "execution_count": 3,
     "metadata": {},
     "output_type": "execute_result"
    }
   ],
   "source": [
    "combinations(20,15) * factorial(15)"
   ]
  },
  {
   "cell_type": "code",
   "execution_count": 8,
   "id": "42118042",
   "metadata": {},
   "outputs": [
    {
     "name": "stdout",
     "output_type": "stream",
     "text": [
      "8.469120683658719e+28\n"
     ]
    }
   ],
   "source": [
    "import math # Solution\n",
    "\n",
    "# there are 26 fans\n",
    "fans = 26\n",
    "\n",
    "# there are 10 seats per row, and 3 rows in total\n",
    "seats_per_row = 10\n",
    "total_seats = 30\n",
    "\n",
    "# the number of fans that must be seated in the first two rows\n",
    "fans_first_2_rows = 20\n",
    "\n",
    "# The number of ways to choose 20 from among the 26 fans to sit in the first 2 rows\n",
    "combinations_fans_in_first_two_rows = math.factorial(fans) / (math.factorial(fans_first_2_rows) * math.factorial(fans - fans_first_2_rows ))\n",
    "\n",
    "# The number of ways to order the 20 fans in the first 2 rows\n",
    "ordering_fans_in_first_2_rows = math.factorial(fans_first_2_rows)\n",
    "\n",
    "# The number of ways to choose 6 from among the remaining 6 fans to sit in the last row\n",
    "combinations_fans_in_last_row = math.factorial(seats_per_row) / (math.factorial(fans - fans_first_2_rows) * math.factorial( seats_per_row - (fans - fans_first_2_rows) ))\n",
    "\n",
    "# The number of ways to order the remaining 6 fans in the last remaining row\n",
    "ordering_fans_in_last_row = math.factorial(fans - fans_first_2_rows)\n",
    "\n",
    "# The total number of different ways to distribute the fans among the seats\n",
    "total_ways = combinations_fans_in_first_two_rows * ordering_fans_in_first_2_rows * combinations_fans_in_last_row * ordering_fans_in_last_row\n",
    "\n",
    "print(total_ways)"
   ]
  },
  {
   "cell_type": "code",
   "execution_count": null,
   "id": "8753ef73",
   "metadata": {},
   "outputs": [],
   "source": []
  },
  {
   "cell_type": "code",
   "execution_count": 7,
   "id": "0ef3ff41",
   "metadata": {},
   "outputs": [
    {
     "data": {
      "text/plain": [
       "8.469120683658719e+28"
      ]
     },
     "execution_count": 7,
     "metadata": {},
     "output_type": "execute_result"
    }
   ],
   "source": [
    "arrangements(26,10) * arrangements(16,10) * arrangements(10,6)"
   ]
  },
  {
   "cell_type": "markdown",
   "id": "5aaf2602",
   "metadata": {},
   "source": [
    "A theater has 30 seats in a row. There are 15 people waiting in line to see a movie. If the first 10 seats are already taken, in how many different ways can the remaining 15 people be seated in the theater?"
   ]
  },
  {
   "cell_type": "code",
   "execution_count": 9,
   "id": "82316b59",
   "metadata": {},
   "outputs": [
    {
     "data": {
      "text/plain": [
       "2.0274183401472e+16"
      ]
     },
     "execution_count": 9,
     "metadata": {},
     "output_type": "execute_result"
    }
   ],
   "source": [
    "arrangements(20,15)"
   ]
  },
  {
   "cell_type": "code",
   "execution_count": 1,
   "id": "3870c8cc",
   "metadata": {},
   "outputs": [
    {
     "name": "stdout",
     "output_type": "stream",
     "text": [
      "2.0274183401472e+16\n"
     ]
    }
   ],
   "source": [
    "import math # Solution\n",
    "\n",
    "# there are 15 people waiting in line\n",
    "people = 15\n",
    "\n",
    "# there are 30 seats in a row\n",
    "seats = 30\n",
    "\n",
    "# the number of seats that are already taken\n",
    "seats_taken = 10\n",
    "\n",
    "# The number of ways to choose 15 from among the remaining 20 seats\n",
    "combinations_people_in_seats = math.factorial(seats - seats_taken) / (math.factorial(people) * math.factorial( (seats - seats_taken) - people))\n",
    "\n",
    "# The number of ways to order the 15 people in the remaining 20 seats\n",
    "ordering_people_in_seats = math.factorial(people)\n",
    "\n",
    "# The total number of different ways to distribute the people among the seats\n",
    "total_ways = combinations_people_in_seats * ordering_people_in_seats\n",
    "\n",
    "print(total_ways)"
   ]
  },
  {
   "cell_type": "code",
   "execution_count": null,
   "id": "0580ee8d",
   "metadata": {},
   "outputs": [],
   "source": []
  },
  {
   "cell_type": "markdown",
   "id": "008bbb6c",
   "metadata": {},
   "source": [
    "In a classroom, there are 25 desks arranged in five rows and five columns. There are 20 students in the class. If the first two rows are already fully occupied, in how many different ways can the remaining 10 students be seated in the classroom?"
   ]
  },
  {
   "cell_type": "code",
   "execution_count": 10,
   "id": "41544292",
   "metadata": {},
   "outputs": [
    {
     "data": {
      "text/plain": [
       "10897286400.0"
      ]
     },
     "execution_count": 10,
     "metadata": {},
     "output_type": "execute_result"
    }
   ],
   "source": [
    "arrangements(15,10)"
   ]
  },
  {
   "cell_type": "markdown",
   "id": "2ff773b2",
   "metadata": {},
   "source": [
    "A restaurant has 40 tables that can seat two people each. There are 30 couples waiting to be seated. If the first 20 tables are already taken, in how many different ways can the remaining 10 couples be seated in the restaurant?"
   ]
  },
  {
   "cell_type": "code",
   "execution_count": 11,
   "id": "0be8ed16",
   "metadata": {},
   "outputs": [
    {
     "data": {
      "text/plain": [
       "670442572800.0"
      ]
     },
     "execution_count": 11,
     "metadata": {},
     "output_type": "execute_result"
    }
   ],
   "source": [
    "arrangements(20,10)"
   ]
  },
  {
   "cell_type": "markdown",
   "id": "af1d7ffd",
   "metadata": {},
   "source": [
    "A parking lot has 30 spaces available for cars, numbered from 1 to 30. There are 22 cars arriving at the lot. If the first 10 spaces are already taken, in how many different ways can the remaining 22 cars be parked in the lot?"
   ]
  },
  {
   "cell_type": "markdown",
   "id": "06353665",
   "metadata": {},
   "source": []
  },
  {
   "cell_type": "code",
   "execution_count": 18,
   "id": "04bf6df3",
   "metadata": {},
   "outputs": [],
   "source": [
    "import random\n",
    "\n",
    "def draw_cards():\n",
    "    \"\"\"\n",
    "    Draw 3 cards from a deck of 13 cards.\n",
    "    \"\"\"\n",
    "    deck = [1, 2, 3, 4, 5, 6, 7, 8, 9, 10, 11, 12, 13]\n",
    "    drawn_cards = []\n",
    "    for i in range(3):\n",
    "        drawn_cards.append(random.choice(deck))\n",
    "    return drawn_cards\n",
    "\n",
    "def is_odd(number):\n",
    "    \"\"\"\n",
    "    Check if a number is odd.\n",
    "    \"\"\"\n",
    "    if number % 2 == 0:\n",
    "        return False\n",
    "    else:\n",
    "        return True\n",
    "\n",
    "def is_product_odd(drawn_cards):\n",
    "    \"\"\"\n",
    "    Check if the product of the drawn cards is odd.\n",
    "    \"\"\"\n",
    "    product = 1\n",
    "    for card in drawn_cards:\n",
    "        product *= card\n",
    "    if is_odd(product):\n",
    "        return True\n",
    "    else:\n",
    "        return False\n",
    "\n",
    "def is_only_numbered_cards(drawn_cards):\n",
    "    \"\"\"\n",
    "    Check if only numbered cards were drawn.\n",
    "    \"\"\"\n",
    "    for card in drawn_cards:\n",
    "        if card > 10:\n",
    "            return False\n",
    "    return True\n",
    "\n",
    "def main():\n",
    "    \"\"\"\n",
    "    Main function.\n",
    "    \"\"\"\n",
    "    number_of_trials = 100000\n",
    "    number_of_successes = 0\n",
    "    for i in range(number_of_trials):\n",
    "        drawn_cards = draw_cards()\n",
    "        if is_product_odd(drawn_cards) and is_only_numbered_cards(drawn_cards):\n",
    "            number_of_successes += 1\n",
    "    print(\"Probability:\", number_of_successes / number_of_trials)\n"
   ]
  },
  {
   "cell_type": "code",
   "execution_count": 20,
   "id": "794b0597",
   "metadata": {},
   "outputs": [
    {
     "name": "stdout",
     "output_type": "stream",
     "text": [
      "Probability: 0.05756\n"
     ]
    }
   ],
   "source": [
    "main()"
   ]
  },
  {
   "cell_type": "code",
   "execution_count": 21,
   "id": "337b9fdb",
   "metadata": {},
   "outputs": [],
   "source": [
    "# Poker hand so pergunta"
   ]
  },
  {
   "cell_type": "code",
   "execution_count": 9,
   "id": "13b13297",
   "metadata": {},
   "outputs": [
    {
     "name": "stdout",
     "output_type": "stream",
     "text": [
      "0.0536\n"
     ]
    }
   ],
   "source": [
    "import random\n",
    "\n",
    "def poker_hand():\n",
    "    \"\"\"\n",
    "    This function returns a random poker hand\n",
    "    \"\"\"\n",
    "    hand = []\n",
    "    for i in range(5):\n",
    "        hand.append(random.randint(1,13))\n",
    "    return hand\n",
    "\n",
    "def three_of_a_kind(hand):\n",
    "    \"\"\"\n",
    "    This function returns True if the hand is a three of a kind\n",
    "    \"\"\"\n",
    "    for i in hand:\n",
    "        if hand.count(i) == 3:\n",
    "            return True\n",
    "    return False\n",
    "\n",
    "def main():\n",
    "    \"\"\"\n",
    "    This function runs the program\n",
    "    \"\"\"\n",
    "    count = 0\n",
    "    for i in range(10000):\n",
    "        if three_of_a_kind(poker_hand()):\n",
    "            count += 1\n",
    "    print(count/10000)\n",
    "\n",
    "main()"
   ]
  },
  {
   "cell_type": "code",
   "execution_count": 22,
   "id": "697b4267",
   "metadata": {},
   "outputs": [],
   "source": [
    "# Poker hand com o prompt modificado"
   ]
  },
  {
   "cell_type": "code",
   "execution_count": 25,
   "id": "b47daf69",
   "metadata": {},
   "outputs": [
    {
     "name": "stdout",
     "output_type": "stream",
     "text": [
      "[12, 3, 1, 6, 0]\n",
      "False\n"
     ]
    }
   ],
   "source": [
    "import random\n",
    "\n",
    "def create_deck():\n",
    "    \"\"\"\n",
    "    creates a deck of 52 cards\n",
    "    \"\"\"\n",
    "    deck = []\n",
    "    for i in range(13):\n",
    "        for j in range(4):\n",
    "            deck.append(i)\n",
    "    return deck\n",
    "\n",
    "def shuffle_deck(deck):\n",
    "    \"\"\"\n",
    "    shuffles the deck\n",
    "    \"\"\"\n",
    "    random.shuffle(deck)\n",
    "    return deck\n",
    "\n",
    "def deal_hand(deck):\n",
    "    \"\"\"\n",
    "    deals a hand of 5 cards\n",
    "    \"\"\"\n",
    "    hand = []\n",
    "    for i in range(5):\n",
    "        hand.append(deck.pop())\n",
    "    return hand\n",
    "\n",
    "def is_three_pair(hand):\n",
    "    \"\"\"\n",
    "    checks if the hand is a three pair\n",
    "    \"\"\"\n",
    "    hand_count = [0] * 13\n",
    "    for i in range(5):\n",
    "        hand_count[hand[i]] += 1\n",
    "    if hand_count.count(2) == 3:\n",
    "        return True\n",
    "    else:\n",
    "        return False\n",
    "\n",
    "def main():\n",
    "    \"\"\"\n",
    "    main function\n",
    "    \"\"\"\n",
    "    deck = create_deck()\n",
    "    deck = shuffle_deck(deck)\n",
    "    hand = deal_hand(deck)\n",
    "    print(hand)\n",
    "    print(is_three_pair(hand))\n",
    "    \n",
    "main()"
   ]
  },
  {
   "cell_type": "code",
   "execution_count": 38,
   "id": "766709d3",
   "metadata": {},
   "outputs": [
    {
     "name": "stdout",
     "output_type": "stream",
     "text": [
      "0.022653\n"
     ]
    }
   ],
   "source": [
    "import random\n",
    "def get_rank_counts(hand):\n",
    "    \"\"\"\n",
    "    Return a dictionary with ranks as keys and their counts as values.\n",
    "    \"\"\"\n",
    "    ranks = [card[0] for card in hand]\n",
    "    return {rank: ranks.count(rank) for rank in ranks}\n",
    "\n",
    "def is_three_pair(hand):\n",
    "    \"\"\"\n",
    "    Return True if hand is a three pair hand.\n",
    "    \"\"\"\n",
    "    rank_counts = get_rank_counts(hand)\n",
    "    return 3 in rank_counts.values()\n",
    "\n",
    "def get_three_pair_probability(n):\n",
    "    \"\"\"\n",
    "    Return the probability of getting a three pair hand.\n",
    "    \"\"\"\n",
    "    three_pair_count = 0\n",
    "    for _ in range(n):\n",
    "        deck = [\n",
    "        '2C', '2D', '2H', '2S',\n",
    "        '3C', '3D', '3H', '3S',\n",
    "        '4C', '4D', '4H', '4S',\n",
    "        '5C', '5D', '5H', '5S',\n",
    "        '6C', '6D', '6H', '6S',\n",
    "        '7C', '7D', '7H', '7S',\n",
    "        '8C', '8D', '8H', '8S',\n",
    "        '9C', '9D', '9H', '9S',\n",
    "        'TC', 'TD', 'TH', 'TS',\n",
    "        'JC', 'JD', 'JH', 'JS',\n",
    "        'QC', 'QD', 'QH', 'QS',\n",
    "        'KC', 'KD', 'KH', 'KS',\n",
    "        'AC', 'AD', 'AH', 'AS'\n",
    "        ]\n",
    "        \n",
    "        hand = random.sample(deck, 5)\n",
    "        if is_three_pair(hand):\n",
    "            three_pair_count += 1\n",
    "    return three_pair_count / n\n",
    "\n",
    "print(get_three_pair_probability(1000000))"
   ]
  },
  {
   "cell_type": "code",
   "execution_count": 50,
   "id": "19a5688e",
   "metadata": {},
   "outputs": [],
   "source": [
    "#\n",
    "    \n",
    "    \n",
    "    \n",
    "la=[]\n",
    "for i in range(50):\n",
    "    la.append(main())"
   ]
  },
  {
   "cell_type": "code",
   "execution_count": 51,
   "id": "da56785c",
   "metadata": {},
   "outputs": [
    {
     "data": {
      "text/plain": [
       "<AxesSubplot:ylabel='Count'>"
      ]
     },
     "execution_count": 51,
     "metadata": {},
     "output_type": "execute_result"
    },
    {
     "data": {
      "image/png": "[encoded data removed]",
      "text/plain": [
       "<Figure size 640x480 with 1 Axes>"
      ]
     },
     "metadata": {},
     "output_type": "display_data"
    }
   ],
   "source": [
    "import seaborn as sns\n",
    "sns.histplot(la)"
   ]
  },
  {
   "cell_type": "code",
   "execution_count": 52,
   "id": "0d218efa",
   "metadata": {},
   "outputs": [],
   "source": [
    "# Few shot"
   ]
  },
  {
   "cell_type": "code",
   "execution_count": 63,
   "id": "5c374fd3",
   "metadata": {},
   "outputs": [
    {
     "name": "stdout",
     "output_type": "stream",
     "text": [
      "0.1145\n"
     ]
    }
   ],
   "source": [
    "\n",
    "import random\n",
    "\n",
    "def generate_hand():\n",
    "    \"\"\"\n",
    "    Generates a random hand of 5 cards from a standard 52 card deck.\n",
    "    \"\"\"\n",
    "    ranks = [1, 2, 3, 4, 5, 6, 7, 8, 9, 10, 11, 12, 13]\n",
    "    suits = ['S', 'H', 'D', 'C']\n",
    "    hand = []\n",
    "    for i in range(5):\n",
    "        rank = random.choice(ranks)\n",
    "        suit = random.choice(suits)\n",
    "        hand.append((rank, suit))\n",
    "    return hand\n",
    "\n",
    "def is_three_pair(hand):\n",
    "    \"\"\"\n",
    "    Returns True if the hand is a three-pair poker hand.\n",
    "    \"\"\"\n",
    "    ranks = [card[0] for card in hand]\n",
    "    rank_counts = {}\n",
    "    for rank in ranks:\n",
    "        if rank in rank_counts:\n",
    "            rank_counts[rank] += 1\n",
    "        else:\n",
    "            rank_counts[rank] = 1\n",
    "    if len(rank_counts) == 3:\n",
    "        return True\n",
    "    else:\n",
    "        return False\n",
    "\n",
    "def simulate_three_pair_probability(num_trials):\n",
    "    \"\"\"\n",
    "    Simulates the probability of getting a three-pair poker hand.\n",
    "    \"\"\"\n",
    "    num_three_pair = 0\n",
    "    for i in range(num_trials):\n",
    "        hand = generate_hand()\n",
    "        if is_three_pair(hand):\n",
    "            num_three_pair += 1\n",
    "    return num_three_pair / num_trials\n",
    "\n",
    "print(simulate_three_pair_probability(10000))\n"
   ]
  },
  {
   "cell_type": "code",
   "execution_count": null,
   "id": "5166ea41",
   "metadata": {},
   "outputs": [],
   "source": []
  }
 ],
 "metadata": {
  "kernelspec": {
   "display_name": "Python 3 (ipykernel)",
   "language": "python",
   "name": "python3"
  },
  "language_info": {
   "codemirror_mode": {
    "name": "ipython",
    "version": 3
   },
   "file_extension": ".py",
   "mimetype": "text/x-python",
   "name": "python",
   "nbconvert_exporter": "python",
   "pygments_lexer": "ipython3",
   "version": "3.10.6"
  },
  "vscode": {
   "interpreter": {
    "hash": "6b572e785969677598d56b0d2b80eb586d6a4e5c65cfe9e2df6cf6ef703be962"
   }
  }
 },
 "nbformat": 4,
 "nbformat_minor": 5
}
