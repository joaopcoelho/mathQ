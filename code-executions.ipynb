{
 "cells": [
  {
   "cell_type": "code",
   "execution_count": 5,
   "id": "84e7bccb",
   "metadata": {},
   "outputs": [
    {
     "name": "stdout",
     "output_type": "stream",
     "text": [
      "910.0\n"
     ]
    }
   ],
   "source": [
    "import math # Solution\n",
    "\n",
    "number_of_grandchildren = 2\n",
    "\n",
    "# The number of ways to choose 3 books from 5 books\n",
    "books = 5\n",
    "\n",
    "books_chosen = 3\n",
    "books_combinations = math.factorial(books) / (math.factorial(books_chosen) * math.factorial(books - books_chosen))\n",
    "\n",
    "# The number of ways to choose 3 pens from 7 pens\n",
    "pens = 7\n",
    "pens_chosen = 3\n",
    "pens_combinations = math.factorial(pens) / (math.factorial(pens_chosen) * math.factorial(pens - pens_chosen))\n",
    "\n",
    "# The number of ways to choose 3 books and 3 pens from 5 books and 7 pens\n",
    "combinations_3_books_3_pens = number_of_grandchildren * books_combinations * pens_combinations\n",
    "\n",
    "# The number of ways to choose 4 books from 5 books\n",
    "books_chosen = 4\n",
    "books_combinations = math.factorial(books) / (math.factorial(books_chosen) * math.factorial(books - books_chosen))\n",
    "\n",
    "# The number of ways to choose 2 pens from 7 pens\n",
    "pens_chosen = 2\n",
    "pens_combinations = math.factorial(pens) / (math.factorial(pens_chosen) * math.factorial(pens - pens_chosen))\n",
    "\n",
    "# The number of ways to choose 4 books and 2 pens from 5 books and 7 pens\n",
    "combinations_4_books_2_pens = number_of_grandchildren * books_combinations * pens_combinations\n",
    "\n",
    "total_combinations = combinations_3_books_3_pens + combinations_4_books_2_pens\n",
    "\n",
    "print(total_combinations)"
   ]
  },
  {
   "cell_type": "code",
   "execution_count": 8,
   "id": "b78f3249",
   "metadata": {},
   "outputs": [
    {
     "name": "stdout",
     "output_type": "stream",
     "text": [
      "580608000.0\n"
     ]
    }
   ],
   "source": [
    "import math # Solution\n",
    "\n",
    "car_seats = 5\n",
    "car_drivers = 1\n",
    "van_seats = 9\n",
    "van_drivers = 1\n",
    "drivers = car_drivers + van_drivers\n",
    "managers = 3\n",
    "\n",
    "# The number of ways to choose 2 drivers from 3 managers\n",
    "permutations_drivers = math.factorial(managers) / (math.factorial(managers - drivers))\n",
    "\n",
    "coaches = 1\n",
    "male_players = 5\n",
    "female_players = 5\n",
    "max_players_of_each_gender_in_car = 2\n",
    "\n",
    "# The number of ways to choose 2 male players among 5 male players\n",
    "permutations_male_players_in_car = math.factorial(male_players) / (math.factorial(max_players_of_each_gender_in_car) * math.factorial(male_players - max_players_of_each_gender_in_car))\n",
    "\n",
    "# The number of ways to choose 2 female players among 5 female players\n",
    "permutations_female_players_in_car = math.factorial(female_players) / (math.factorial(max_players_of_each_gender_in_car) * math.factorial(female_players - max_players_of_each_gender_in_car))\n",
    "\n",
    "# The number of ways to order 4 passengers in the car\n",
    "car_seat_ordering = math.factorial(car_seats - car_drivers) \n",
    "\n",
    "# The number of ways to order 8 passengers in the van\n",
    "van_seat_ordering = math.factorial(van_seats - van_drivers) \n",
    "\n",
    "# The total number of different ways to distribute the fourteen elements of the entourage among the fourteen available places\n",
    "total_ways = permutations_drivers * permutations_male_players_in_car * permutations_female_players_in_car * car_seat_ordering * van_seat_ordering\n",
    "\n",
    "print(total_ways)\n"
   ]
  },
  {
   "cell_type": "code",
   "execution_count": 6,
   "id": "bfc0caee",
   "metadata": {},
   "outputs": [
    {
     "ename": "KeyboardInterrupt",
     "evalue": "",
     "output_type": "error",
     "traceback": [
      "\u001b[0;31m---------------------------------------------------------------------------\u001b[0m",
      "\u001b[0;31mKeyboardInterrupt\u001b[0m                         Traceback (most recent call last)",
      "Cell \u001b[0;32mIn[6], line 30\u001b[0m\n\u001b[1;32m     26\u001b[0m     \u001b[39m# print the number of valid combinations\u001b[39;00m\n\u001b[1;32m     27\u001b[0m     \u001b[39mprint\u001b[39m(\u001b[39mlen\u001b[39m(valid_combinations))\n\u001b[0;32m---> 30\u001b[0m main()\n",
      "Cell \u001b[0;32mIn[6], line 22\u001b[0m, in \u001b[0;36mmain\u001b[0;34m()\u001b[0m\n\u001b[1;32m     20\u001b[0m \u001b[39mfor\u001b[39;00m i \u001b[39min\u001b[39;00m \u001b[39mrange\u001b[39m(\u001b[39mlen\u001b[39m(combination[\u001b[39m0\u001b[39m])):\n\u001b[1;32m     21\u001b[0m     \u001b[39mif\u001b[39;00m combination[\u001b[39m0\u001b[39m][i] \u001b[39m==\u001b[39m \u001b[39m'\u001b[39m\u001b[39mwhite\u001b[39m\u001b[39m'\u001b[39m:\n\u001b[0;32m---> 22\u001b[0m         white_boxes\u001b[39m.\u001b[39;49mappend(combination[\u001b[39m1\u001b[39;49m][i])\n\u001b[1;32m     23\u001b[0m \u001b[39m# check if the combination satisfies the conditions\u001b[39;00m\n\u001b[1;32m     24\u001b[0m \u001b[39mif\u001b[39;00m \u001b[39mall\u001b[39m(box \u001b[39m%\u001b[39m \u001b[39m2\u001b[39m \u001b[39m==\u001b[39m \u001b[39m0\u001b[39m \u001b[39mfor\u001b[39;00m box \u001b[39min\u001b[39;00m blue_boxes) \u001b[39mand\u001b[39;00m \u001b[39mall\u001b[39m(box \u001b[39m%\u001b[39m \u001b[39m2\u001b[39m \u001b[39m==\u001b[39m \u001b[39m1\u001b[39m \u001b[39mfor\u001b[39;00m box \u001b[39min\u001b[39;00m white_boxes) \u001b[39mand\u001b[39;00m \u001b[39mlen\u001b[39m(\u001b[39mset\u001b[39m(combination[\u001b[39m1\u001b[39m])) \u001b[39m==\u001b[39m \u001b[39m10\u001b[39m:\n",
      "\u001b[0;31mKeyboardInterrupt\u001b[0m: "
     ]
    }
   ],
   "source": [
    "import itertools\n",
    "\n",
    "def main():\n",
    "    # create a list of all possible combinations of 8 blue balls and 7 white balls\n",
    "    balls = list(itertools.combinations_with_replacement(['blue', 'white'], 15))\n",
    "    # create a list of all possible combinations of 10 boxes\n",
    "    boxes = list(itertools.combinations_with_replacement(range(1, 11), 15))\n",
    "    # create a list of all possible combinations of balls and boxes\n",
    "    combinations = list(itertools.product(balls, boxes))\n",
    "    # create a list of all possible combinations of balls and boxes that satisfy the conditions\n",
    "    valid_combinations = []\n",
    "    for combination in combinations:\n",
    "        # create a list of all the boxes that contain blue balls\n",
    "        blue_boxes = []\n",
    "        for i in range(len(combination[0])):\n",
    "            if combination[0][i] == 'blue':\n",
    "                blue_boxes.append(combination[1][i])\n",
    "        # create a list of all the boxes that contain white balls\n",
    "        white_boxes = []\n",
    "        for i in range(len(combination[0])):\n",
    "            if combination[0][i] == 'white':\n",
    "                white_boxes.append(combination[1][i])\n",
    "        # check if the combination satisfies the conditions\n",
    "        if all(box % 2 == 0 for box in blue_boxes) and all(box % 2 == 1 for box in white_boxes) and len(set(combination[1])) == 10:\n",
    "            valid_combinations.append(combination)\n",
    "    # print the number of valid combinations\n",
    "    print(len(valid_combinations))\n",
    "\n",
    "\n",
    "main()"
   ]
  },
  {
   "cell_type": "code",
   "execution_count": null,
   "id": "12e1082c",
   "metadata": {},
   "outputs": [],
   "source": []
  },
  {
   "cell_type": "code",
   "execution_count": 18,
   "id": "04bf6df3",
   "metadata": {},
   "outputs": [],
   "source": [
    "import random\n",
    "\n",
    "def draw_cards():\n",
    "    \"\"\"\n",
    "    Draw 3 cards from a deck of 13 cards.\n",
    "    \"\"\"\n",
    "    deck = [1, 2, 3, 4, 5, 6, 7, 8, 9, 10, 11, 12, 13]\n",
    "    drawn_cards = []\n",
    "    for i in range(3):\n",
    "        drawn_cards.append(random.choice(deck))\n",
    "    return drawn_cards\n",
    "\n",
    "def is_odd(number):\n",
    "    \"\"\"\n",
    "    Check if a number is odd.\n",
    "    \"\"\"\n",
    "    if number % 2 == 0:\n",
    "        return False\n",
    "    else:\n",
    "        return True\n",
    "\n",
    "def is_product_odd(drawn_cards):\n",
    "    \"\"\"\n",
    "    Check if the product of the drawn cards is odd.\n",
    "    \"\"\"\n",
    "    product = 1\n",
    "    for card in drawn_cards:\n",
    "        product *= card\n",
    "    if is_odd(product):\n",
    "        return True\n",
    "    else:\n",
    "        return False\n",
    "\n",
    "def is_only_numbered_cards(drawn_cards):\n",
    "    \"\"\"\n",
    "    Check if only numbered cards were drawn.\n",
    "    \"\"\"\n",
    "    for card in drawn_cards:\n",
    "        if card > 10:\n",
    "            return False\n",
    "    return True\n",
    "\n",
    "def main():\n",
    "    \"\"\"\n",
    "    Main function.\n",
    "    \"\"\"\n",
    "    number_of_trials = 100000\n",
    "    number_of_successes = 0\n",
    "    for i in range(number_of_trials):\n",
    "        drawn_cards = draw_cards()\n",
    "        if is_product_odd(drawn_cards) and is_only_numbered_cards(drawn_cards):\n",
    "            number_of_successes += 1\n",
    "    print(\"Probability:\", number_of_successes / number_of_trials)\n"
   ]
  },
  {
   "cell_type": "code",
   "execution_count": 20,
   "id": "794b0597",
   "metadata": {},
   "outputs": [
    {
     "name": "stdout",
     "output_type": "stream",
     "text": [
      "Probability: 0.05756\n"
     ]
    }
   ],
   "source": [
    "main()"
   ]
  },
  {
   "cell_type": "code",
   "execution_count": 21,
   "id": "337b9fdb",
   "metadata": {},
   "outputs": [],
   "source": [
    "# Poker hand so pergunta"
   ]
  },
  {
   "cell_type": "code",
   "execution_count": 9,
   "id": "13b13297",
   "metadata": {},
   "outputs": [
    {
     "name": "stdout",
     "output_type": "stream",
     "text": [
      "0.0536\n"
     ]
    }
   ],
   "source": [
    "import random\n",
    "\n",
    "def poker_hand():\n",
    "    \"\"\"\n",
    "    This function returns a random poker hand\n",
    "    \"\"\"\n",
    "    hand = []\n",
    "    for i in range(5):\n",
    "        hand.append(random.randint(1,13))\n",
    "    return hand\n",
    "\n",
    "def three_of_a_kind(hand):\n",
    "    \"\"\"\n",
    "    This function returns True if the hand is a three of a kind\n",
    "    \"\"\"\n",
    "    for i in hand:\n",
    "        if hand.count(i) == 3:\n",
    "            return True\n",
    "    return False\n",
    "\n",
    "def main():\n",
    "    \"\"\"\n",
    "    This function runs the program\n",
    "    \"\"\"\n",
    "    count = 0\n",
    "    for i in range(10000):\n",
    "        if three_of_a_kind(poker_hand()):\n",
    "            count += 1\n",
    "    print(count/10000)\n",
    "\n",
    "main()"
   ]
  },
  {
   "cell_type": "code",
   "execution_count": 22,
   "id": "697b4267",
   "metadata": {},
   "outputs": [],
   "source": [
    "# Poker hand com o prompt modificado"
   ]
  },
  {
   "cell_type": "code",
   "execution_count": 25,
   "id": "b47daf69",
   "metadata": {},
   "outputs": [
    {
     "name": "stdout",
     "output_type": "stream",
     "text": [
      "[12, 3, 1, 6, 0]\n",
      "False\n"
     ]
    }
   ],
   "source": [
    "import random\n",
    "\n",
    "def create_deck():\n",
    "    \"\"\"\n",
    "    creates a deck of 52 cards\n",
    "    \"\"\"\n",
    "    deck = []\n",
    "    for i in range(13):\n",
    "        for j in range(4):\n",
    "            deck.append(i)\n",
    "    return deck\n",
    "\n",
    "def shuffle_deck(deck):\n",
    "    \"\"\"\n",
    "    shuffles the deck\n",
    "    \"\"\"\n",
    "    random.shuffle(deck)\n",
    "    return deck\n",
    "\n",
    "def deal_hand(deck):\n",
    "    \"\"\"\n",
    "    deals a hand of 5 cards\n",
    "    \"\"\"\n",
    "    hand = []\n",
    "    for i in range(5):\n",
    "        hand.append(deck.pop())\n",
    "    return hand\n",
    "\n",
    "def is_three_pair(hand):\n",
    "    \"\"\"\n",
    "    checks if the hand is a three pair\n",
    "    \"\"\"\n",
    "    hand_count = [0] * 13\n",
    "    for i in range(5):\n",
    "        hand_count[hand[i]] += 1\n",
    "    if hand_count.count(2) == 3:\n",
    "        return True\n",
    "    else:\n",
    "        return False\n",
    "\n",
    "def main():\n",
    "    \"\"\"\n",
    "    main function\n",
    "    \"\"\"\n",
    "    deck = create_deck()\n",
    "    deck = shuffle_deck(deck)\n",
    "    hand = deal_hand(deck)\n",
    "    print(hand)\n",
    "    print(is_three_pair(hand))\n",
    "    \n",
    "main()"
   ]
  },
  {
   "cell_type": "code",
   "execution_count": 38,
   "id": "766709d3",
   "metadata": {},
   "outputs": [
    {
     "name": "stdout",
     "output_type": "stream",
     "text": [
      "0.022653\n"
     ]
    }
   ],
   "source": [
    "import random\n",
    "def get_rank_counts(hand):\n",
    "    \"\"\"\n",
    "    Return a dictionary with ranks as keys and their counts as values.\n",
    "    \"\"\"\n",
    "    ranks = [card[0] for card in hand]\n",
    "    return {rank: ranks.count(rank) for rank in ranks}\n",
    "\n",
    "def is_three_pair(hand):\n",
    "    \"\"\"\n",
    "    Return True if hand is a three pair hand.\n",
    "    \"\"\"\n",
    "    rank_counts = get_rank_counts(hand)\n",
    "    return 3 in rank_counts.values()\n",
    "\n",
    "def get_three_pair_probability(n):\n",
    "    \"\"\"\n",
    "    Return the probability of getting a three pair hand.\n",
    "    \"\"\"\n",
    "    three_pair_count = 0\n",
    "    for _ in range(n):\n",
    "        deck = [\n",
    "        '2C', '2D', '2H', '2S',\n",
    "        '3C', '3D', '3H', '3S',\n",
    "        '4C', '4D', '4H', '4S',\n",
    "        '5C', '5D', '5H', '5S',\n",
    "        '6C', '6D', '6H', '6S',\n",
    "        '7C', '7D', '7H', '7S',\n",
    "        '8C', '8D', '8H', '8S',\n",
    "        '9C', '9D', '9H', '9S',\n",
    "        'TC', 'TD', 'TH', 'TS',\n",
    "        'JC', 'JD', 'JH', 'JS',\n",
    "        'QC', 'QD', 'QH', 'QS',\n",
    "        'KC', 'KD', 'KH', 'KS',\n",
    "        'AC', 'AD', 'AH', 'AS'\n",
    "        ]\n",
    "        \n",
    "        hand = random.sample(deck, 5)\n",
    "        if is_three_pair(hand):\n",
    "            three_pair_count += 1\n",
    "    return three_pair_count / n\n",
    "\n",
    "print(get_three_pair_probability(1000000))"
   ]
  },
  {
   "cell_type": "code",
   "execution_count": 50,
   "id": "19a5688e",
   "metadata": {},
   "outputs": [],
   "source": [
    "#\n",
    "    \n",
    "    \n",
    "    \n",
    "la=[]\n",
    "for i in range(50):\n",
    "    la.append(main())"
   ]
  },
  {
   "cell_type": "code",
   "execution_count": 51,
   "id": "da56785c",
   "metadata": {},
   "outputs": [
    {
     "data": {
      "text/plain": [
       "<AxesSubplot:ylabel='Count'>"
      ]
     },
     "execution_count": 51,
     "metadata": {},
     "output_type": "execute_result"
    },
    {
     "data": {
      "image/png": "[encoded data removed]",
      "text/plain": [
       "<Figure size 640x480 with 1 Axes>"
      ]
     },
     "metadata": {},
     "output_type": "display_data"
    }
   ],
   "source": [
    "import seaborn as sns\n",
    "sns.histplot(la)"
   ]
  },
  {
   "cell_type": "code",
   "execution_count": 52,
   "id": "0d218efa",
   "metadata": {},
   "outputs": [],
   "source": [
    "# Few shot"
   ]
  },
  {
   "cell_type": "code",
   "execution_count": 63,
   "id": "5c374fd3",
   "metadata": {},
   "outputs": [
    {
     "name": "stdout",
     "output_type": "stream",
     "text": [
      "0.1145\n"
     ]
    }
   ],
   "source": [
    "\n",
    "import random\n",
    "\n",
    "def generate_hand():\n",
    "    \"\"\"\n",
    "    Generates a random hand of 5 cards from a standard 52 card deck.\n",
    "    \"\"\"\n",
    "    ranks = [1, 2, 3, 4, 5, 6, 7, 8, 9, 10, 11, 12, 13]\n",
    "    suits = ['S', 'H', 'D', 'C']\n",
    "    hand = []\n",
    "    for i in range(5):\n",
    "        rank = random.choice(ranks)\n",
    "        suit = random.choice(suits)\n",
    "        hand.append((rank, suit))\n",
    "    return hand\n",
    "\n",
    "def is_three_pair(hand):\n",
    "    \"\"\"\n",
    "    Returns True if the hand is a three-pair poker hand.\n",
    "    \"\"\"\n",
    "    ranks = [card[0] for card in hand]\n",
    "    rank_counts = {}\n",
    "    for rank in ranks:\n",
    "        if rank in rank_counts:\n",
    "            rank_counts[rank] += 1\n",
    "        else:\n",
    "            rank_counts[rank] = 1\n",
    "    if len(rank_counts) == 3:\n",
    "        return True\n",
    "    else:\n",
    "        return False\n",
    "\n",
    "def simulate_three_pair_probability(num_trials):\n",
    "    \"\"\"\n",
    "    Simulates the probability of getting a three-pair poker hand.\n",
    "    \"\"\"\n",
    "    num_three_pair = 0\n",
    "    for i in range(num_trials):\n",
    "        hand = generate_hand()\n",
    "        if is_three_pair(hand):\n",
    "            num_three_pair += 1\n",
    "    return num_three_pair / num_trials\n",
    "\n",
    "print(simulate_three_pair_probability(10000))\n"
   ]
  },
  {
   "cell_type": "code",
   "execution_count": null,
   "id": "5166ea41",
   "metadata": {},
   "outputs": [],
   "source": []
  }
 ],
 "metadata": {
  "kernelspec": {
   "display_name": "mathq-venv",
   "language": "python",
   "name": "python3"
  },
  "language_info": {
   "codemirror_mode": {
    "name": "ipython",
    "version": 3
   },
   "file_extension": ".py",
   "mimetype": "text/x-python",
   "name": "python",
   "nbconvert_exporter": "python",
   "pygments_lexer": "ipython3",
   "version": "3.10.6"
  },
  "vscode": {
   "interpreter": {
    "hash": "6b572e785969677598d56b0d2b80eb586d6a4e5c65cfe9e2df6cf6ef703be962"
   }
  }
 },
 "nbformat": 4,
 "nbformat_minor": 5
}
